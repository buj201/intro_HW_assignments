{
 "cells": [
  {
   "cell_type": "markdown",
   "metadata": {},
   "source": [
    "# Introduction to Data Science\n",
    "## Homework 3"
   ]
  },
  {
   "cell_type": "markdown",
   "metadata": {},
   "source": [
    "Student Name: Benjamin Jakubowski\n",
    "\n",
    "Student Netid: buj201\n",
    "***"
   ]
  },
  {
   "cell_type": "markdown",
   "metadata": {},
   "source": [
    "### Part 1\n",
    "Assume that $X$ and $Y$ are discrete random variables. The formulas for Mutual Information, Entropy and Conditional Entropy are given by:\n",
    "\n",
    "$$\\text{Mutual Information} = \\sum_{y \\in Y} \\sum_{x \\in X} p(x, y) \\cdot log\\frac{p(x, y)}{p(x)p(y)}$$\n",
    "\n",
    "$$\\text{Entropy} = H(Y) = -\\sum_{y \\in Y} p(y) \\cdot log(p(y))$$\n",
    "\n",
    "$$\\text{Conditional Entropy} = H(Y \\mid X) = \\sum_{x \\in X} p(x) \\cdot H(Y \\mid X = x)$$\n",
    "\n",
    "Show mathematically that $\\text{Mutual Information} = \\text{Information Gain}$, where $\\text{Information Gain} = H(Y) – H(Y \\mid X)$. Give the derivation below (note, this can be done using Latek math notation, which renders nicely. See above. Feel free to do it by hand and submit an image of your proof)."
   ]
  },
  {
   "cell_type": "markdown",
   "metadata": {},
   "source": [
    "We will show Mutal Information = Information Gain = $H(Y) - H(Y|X)$.\n",
    "\n",
    "First, recall\n",
    "$H(Y) = -\\sum_{y \\in Y} p(y) \\cdot log(p(y))$\n",
    "\n",
    "and\n",
    "\n",
    "$\n",
    "\\begin{align*}\n",
    "H(Y|X) &= \\sum_{x \\in X} P_{X}(x) \\cdot H(Y | X = x) \\\\\n",
    "   &= \\sum_{x \\in X} P_{X}(x) \\left[-\\sum_{y \\in Y} P_{Y | X}(y |x) \\cdot log(P_{Y | X}(y | x)) \\right] \\\\\n",
    "   &= -\\sum_{y \\in Y} \\sum_{x \\in X} P_{X}(x) P_{Y | X}(y | x) \\cdot log(P_{Y | X}(y | x))\n",
    "\\end{align*}\n",
    "$\n",
    "\n",
    "Now recall $P_{Y | X}(y | x) = \\frac{P_{X,Y}(x,y)}{P_{X}(x)}$ and (equivalently) $P_{Y | X}(y | x) \\cdot P_{X}(x) = P_{X,Y}(x,y)$. Therefore, substitution yields\n",
    "\n",
    "$\n",
    "\\begin{equation*}\n",
    "H(Y|X) = -\\sum_{y \\in Y} \\sum_{x \\in X} P_{X, Y}(x, y) \\cdot log\\left(\\frac{P_{X,Y}(x,y)}{P_{X}(x)}\\right)\n",
    "\\end{equation*}\n",
    "$\n",
    "\n",
    "Now, let's consider $H(Y)$. Recall $P_{Y}(y) = \\sum_{x \\in X} P_{X,Y}(x,y)$. Therefore, we can expand $H(Y)$ by rewriting the marginal pmf $P_{Y}(y)$ as a sum:\n",
    "\n",
    "$\n",
    "\\begin{align*}\n",
    "H(Y) &= -\\sum_{y \\in Y} log(p(y))\\cdot p(y) \\\\\n",
    "   &= -\\sum_{y \\in Y} log(p(y))\\left[\\sum_{x \\in X} P_{X,Y}(x,y) \\right] \\\\\n",
    "   &= -\\sum_{y \\in Y} \\sum_{x \\in X} P_{X,Y}(x,y)\\cdot log(P_{Y}(y))\\\\\n",
    "\\end{align*}\n",
    "$\n",
    "\n",
    "Now, let's consider $H(Y) - H(Y | X)$:\n",
    "\n",
    "$\n",
    "\\begin{align*}\n",
    "H(Y) - H(Y | X) &=  -\\sum_{y \\in Y} \\sum_{x \\in X} P_{X,Y}(x,y)\\cdot log(P_{Y}(y)) - \\left[-\\sum_{y \\in Y} \\sum_{x \\in X} P_{X, Y}(x, y) \\cdot log\\left(\\frac{P_{X,Y}(x,y)}{P_{X}(x)}\\right)\\right]\\\\\n",
    "   &= \\sum_{y \\in Y} \\sum_{x \\in X} P_{X,Y}(x,y)\\left[log\\left(\\frac{P_{X,Y}(x,y)}{P_{X}(x)}\\right) - log(P_{Y}(y))\\right]\\\\\n",
    "   &= \\sum_{y \\in Y} \\sum_{x \\in X} P_{X,Y}(x,y)\\log\\left(\\frac{P_{X,Y}(x,y)}{P_{X}(x)\\cdot P_{Y}(y)}\\right)\n",
    "\\end{align*}\n",
    "$\n",
    "\n",
    "Thus, mutual information is equal to information gain. As a side note, this validates an intuitive understanding of the relationship between independence and information- if $X$ and $Y$ are independent, then $P_{X,Y}(x,y)$ factors into the product of the marginals, and mutual information (and equivalently information gain) is $0$. This matches our intuition that if X and Y are independent, then knowing one gives no information about the other."
   ]
  },
  {
   "cell_type": "markdown",
   "metadata": {},
   "source": [
    "### Part 2 - Preparing a Training Set and Training a Decision Tree\n",
    "This is a hands-on task where we build a predictive model using Decision Trees discussed in class. For this part, we will be using the data in `cell2cell_data.csv`.\n",
    "\n",
    "These historical data consist of 39,859 customers: 19,901 customers that churned (i.e., left the company) and 19,958 that did not churn (see the `\"churndep\"` variable). Here are the data set's 11 possible predictor variables for churning behavior: \n",
    "\n",
    "```\n",
    "Pos.  Var. Name  Var. Description\n",
    "----- ---------- --------------------------------------------------------------\n",
    "1     revenue    Mean monthly revenue in dollars\n",
    "2     outcalls   Mean number of outbound voice calls\n",
    "3     incalls    Mean number of inbound voice calls\n",
    "4     months     Months in Service\n",
    "5     eqpdays    Number of days the customer has had his/her current equipment\n",
    "6     webcap     Handset is web capable\n",
    "7     marryyes   Married (1=Yes; 0=No)\n",
    "8     travel     Has traveled to non-US country (1=Yes; 0=No)\n",
    "9     pcown      Owns a personal computer (1=Yes; 0=No)\n",
    "10    creditcd   Possesses a credit card (1=Yes; 0=No)\n",
    "11    retcalls   Number of calls previously made to retention team\n",
    "```\n",
    "\n",
    "The 12th column, the dependent variable `\"churndep\"`, equals 1 if the customer churned, and 0 otherwise. "
   ]
  },
  {
   "cell_type": "markdown",
   "metadata": {},
   "source": [
    "1\\. Load the data and prepare it for modeling. Note that the features are already processed for you, so the only thing needed here is split the data into training and testing. Use pandas to create two data frames: train_df and test_df, where train_df has 80% of the data chosen uniformly at random without replacement (test_df should have the other 20%). Also, make sure to write your own code to do the splits. You may use any random() function numpy but DO NOT use the data splitting functions from Sklearn."
   ]
  },
  {
   "cell_type": "code",
   "execution_count": 288,
   "metadata": {
    "collapsed": false
   },
   "outputs": [
    {
     "name": "stdout",
     "output_type": "stream",
     "text": [
      "It is True the that the test and training set partition the dataset.\n",
      "The training set contains 0.799994982313% of the dataset.\n",
      "The test set contains 0.200005017687% of the dataset.\n"
     ]
    }
   ],
   "source": [
    "import pandas as pd\n",
    "import numpy as np\n",
    "\n",
    "np.random.seed(24613450)\n",
    "\n",
    "cell2cell = pd.read_csv('cell2cell_data.csv')\n",
    "\n",
    "train_df_indices = np.random.choice(len(cell2cell), size = int(0.8*len(cell2cell)), replace=False)\n",
    "train_df = cell2cell.iloc[train_df_indices,:]\n",
    "\n",
    "test_df_indices = list(set(range(len(cell2cell))) - set(train_df_indices))\n",
    "test_df = cell2cell.iloc[test_df_indices,:]\n",
    "\n",
    "###############Quick tests#######################\n",
    "def test_train_test_partition():\n",
    "    print 'It is ' + str(set(train_df_indices) | set(test_df_indices) == set(range(len(cell2cell)))) + ' the\\\n",
    " that the test and training set partition the dataset.'\n",
    "\n",
    "def split_ratio():\n",
    "    print 'The training set contains ' + str(float(len(train_df))/float(len(cell2cell))) + '% of the dataset.'\n",
    "    print 'The test set contains ' + str(float(len(test_df))/float(len(cell2cell))) + '% of the dataset.'\n",
    "    \n",
    "test_train_test_partition()\n",
    "split_ratio()"
   ]
  },
  {
   "cell_type": "markdown",
   "metadata": {},
   "source": [
    "2\\. If we had to, how would we prove to ourselves or a colleague that our data was indeed randomly sampled on X? And by prove, I mean empirically, not just showing this person our code. Don't actually do the work, just describe in your own words a test you could here. Hint: think about this in terms of selection bias and use notes from our 2nd lecture."
   ]
  },
  {
   "cell_type": "markdown",
   "metadata": {},
   "source": [
    "Assume the feature (or feature vector) X is given. Then, to empirically demonstrate our data was randomly sampled on X, it is sufficient to show\n",
    "$$P(Test | X) = P(Test) = 0.2$$\n",
    "This essentially means that our training/test split isn't biased- (approximately) 20% of observations (given X) are in the test set, and 80% are in the training set."
   ]
  },
  {
   "cell_type": "markdown",
   "metadata": {},
   "source": [
    "3\\. Now build and train a decision tree classifier using `DecisionTreeClassifier()` [(manual page)](http://scikit-learn.org/stable/modules/generated/sklearn.tree.DecisionTreeClassifier.html) on train_df to predict the `\"churndep\"` target variable. Make sure to use `criterion='entropy'` when instantiating an instance of `DecisionTreeClassifier()`. For all other settings you should use all of the default options."
   ]
  },
  {
   "cell_type": "code",
   "execution_count": 289,
   "metadata": {
    "collapsed": false
   },
   "outputs": [],
   "source": [
    "from sklearn import tree\n",
    "\n",
    "train_predictors = train_df.iloc[:,:11]\n",
    "train_target = train_df.iloc[:,11:12]\n",
    "\n",
    "churn_tree = tree.DecisionTreeClassifier(criterion='entropy')\n",
    "churn_tree = churn_tree.fit(train_predictors, train_target)"
   ]
  },
  {
   "cell_type": "markdown",
   "metadata": {},
   "source": [
    "4\\. Using the resulting model from 2.2, show a bar plot of feature names and their feature importance (hint: check the attributes of the `DecisionTreeClassifier()` object directly in IPython or check the manual!)."
   ]
  },
  {
   "cell_type": "code",
   "execution_count": 290,
   "metadata": {
    "collapsed": false
   },
   "outputs": [
    {
     "data": {
      "text/plain": [
       "<matplotlib.text.Text at 0x1126da450>"
      ]
     },
     "execution_count": 290,
     "metadata": {},
     "output_type": "execute_result"
    },
    {
     "data": {
      "image/png": "[encoded data removed]",
      "text/plain": [
       "<matplotlib.figure.Figure at 0x1117bc190>"
      ]
     },
     "metadata": {},
     "output_type": "display_data"
    }
   ],
   "source": [
    "import matplotlib.pyplot as plt\n",
    "%matplotlib inline\n",
    "\n",
    "fig=plt.figure()\n",
    "width = .8\n",
    "N = len(churn_tree.feature_importances_)\n",
    "plt.bar(np.arange(N), churn_tree.feature_importances_, width)\n",
    "plt.xticks(np.arange(N)+.8/2, train_predictors.columns.values, rotation=90)\n",
    "plt.title('Feature Importance from DT')\n",
    "plt.ylabel('Normalized Gini Importance')"
   ]
  },
  {
   "cell_type": "markdown",
   "metadata": {},
   "source": [
    "5\\. Is the relationship between the top 3 most important features (as measured here) negative or positive? If your marketing director asked you to explain the top 3 drivers of churn, how would you interpret the relationship between these 3 features and the churn outcome?  What \"real-life\" connection can you draw between each variable and churn?"
   ]
  },
  {
   "cell_type": "markdown",
   "metadata": {},
   "source": [
    "To determine the relationship between the top 3 most important features, we first compute the means and medians for these features by subgroup (churners and non-churners)."
   ]
  },
  {
   "cell_type": "code",
   "execution_count": 291,
   "metadata": {
    "collapsed": false
   },
   "outputs": [
    {
     "data": {
      "text/html": [
       "<div>\n",
       "<table border=\"1\" class=\"dataframe\">\n",
       "  <thead>\n",
       "    <tr>\n",
       "      <th></th>\n",
       "      <th colspan=\"2\" halign=\"left\">eqpdays</th>\n",
       "      <th colspan=\"2\" halign=\"left\">outcalls</th>\n",
       "      <th colspan=\"2\" halign=\"left\">revenue</th>\n",
       "    </tr>\n",
       "    <tr>\n",
       "      <th></th>\n",
       "      <th>mean</th>\n",
       "      <th>median</th>\n",
       "      <th>mean</th>\n",
       "      <th>median</th>\n",
       "      <th>mean</th>\n",
       "      <th>median</th>\n",
       "    </tr>\n",
       "    <tr>\n",
       "      <th>churndep</th>\n",
       "      <th></th>\n",
       "      <th></th>\n",
       "      <th></th>\n",
       "      <th></th>\n",
       "      <th></th>\n",
       "      <th></th>\n",
       "    </tr>\n",
       "  </thead>\n",
       "  <tbody>\n",
       "    <tr>\n",
       "      <th>0</th>\n",
       "      <td>369.648465</td>\n",
       "      <td>317</td>\n",
       "      <td>25.666565</td>\n",
       "      <td>13.67</td>\n",
       "      <td>58.456170</td>\n",
       "      <td>47.74</td>\n",
       "    </tr>\n",
       "    <tr>\n",
       "      <th>1</th>\n",
       "      <td>423.659330</td>\n",
       "      <td>368</td>\n",
       "      <td>24.276233</td>\n",
       "      <td>12.67</td>\n",
       "      <td>58.665825</td>\n",
       "      <td>47.84</td>\n",
       "    </tr>\n",
       "  </tbody>\n",
       "</table>\n",
       "</div>"
      ],
      "text/plain": [
       "             eqpdays          outcalls           revenue       \n",
       "                mean median       mean median       mean median\n",
       "churndep                                                       \n",
       "0         369.648465    317  25.666565  13.67  58.456170  47.74\n",
       "1         423.659330    368  24.276233  12.67  58.665825  47.84"
      ]
     },
     "execution_count": 291,
     "metadata": {},
     "output_type": "execute_result"
    }
   ],
   "source": [
    "grouped = test_df.groupby('churndep')\n",
    "grouped.agg({'revenue':[np.mean, np.median], 'eqpdays':[np.mean, np.median], 'outcalls':[np.mean, np.median]})"
   ]
  },
  {
   "cell_type": "markdown",
   "metadata": {},
   "source": [
    "Based on these summary statistics we can suggest the following relationships (though note we have not conducted any hypothesis tests and as such cannot state these relationships with any confidence):\n",
    "\n",
    "1. On average, it appears people who have had their equipment longer (higher values for \"eqpdays\") are more likely to churn. It seems probable that people with higher \"eqpdays\" have older devices (which are likely early or outdated models). Thus, one explanation for this observed relaionship is that people leave the company when they purchase a new device from a competitor.\n",
    "2. On average, people who make fewer outbound calls are more likely to churn. This seems reasonable, as these customers may be getting less utility from their cell phone, and thus would be more likely to leave the company in search of less expensive plans.\n",
    "3. On average, people who pay more money (produce higher revenues for the company) are more likely to churn. Again this seems reasonable- people who are paying more may be more likely to seek out new cheaper service providers."
   ]
  },
  {
   "cell_type": "markdown",
   "metadata": {},
   "source": [
    "6\\. Using the classifier built in 2.2, try predicting `\"churndep\"` on both the train_df and test_df data sets. What is the accuracy on each?"
   ]
  },
  {
   "cell_type": "code",
   "execution_count": 292,
   "metadata": {
    "collapsed": false
   },
   "outputs": [
    {
     "name": "stdout",
     "output_type": "stream",
     "text": [
      "Mean predictive accuracy of the decision tree on the training set is 0.9999.\n",
      "Mean predictive accuracy of the decision tree on the test set is 0.5329.\n"
     ]
    }
   ],
   "source": [
    "train_accuracy = round(churn_tree.score(train_predictors, train_target), 4)\n",
    "\n",
    "test_predictors = test_df.iloc[:,:11]\n",
    "test_target = test_df.iloc[:,11:12]\n",
    "\n",
    "test_accuracy = round(churn_tree.score(test_predictors, test_target), 4)\n",
    "\n",
    "print \"Mean predictive accuracy of the decision tree on the training set is \" + str(train_accuracy) + \".\"\n",
    "print \"Mean predictive accuracy of the decision tree on the test set is \" + str(test_accuracy) + \".\""
   ]
  },
  {
   "cell_type": "markdown",
   "metadata": {},
   "source": [
    "### Part 3 - Finding a Good Decision Tree\n",
    "The default options for your decision tree may not be optimal. We need to analyze whether tuning the parameters can improve the accuracy of the classifier.  For the following options `min_samples_split` and `min_samples_leaf`:"
   ]
  },
  {
   "cell_type": "markdown",
   "metadata": {},
   "source": [
    "1\\. Generate a list of 10 values of each for the parameters mim_samples_split and min_samples_leaf. "
   ]
  },
  {
   "cell_type": "code",
   "execution_count": 293,
   "metadata": {
    "collapsed": false,
    "scrolled": true
   },
   "outputs": [
    {
     "name": "stdout",
     "output_type": "stream",
     "text": [
      "The minimum split sizes are:  [ 159  318  478  637  797  956 1116 1275 1434 1594]\n",
      "The minimum leaf sizes are:  [ 47  79 111 143 175 207 239 271 302 334]\n"
     ]
    }
   ],
   "source": [
    "train_size = len(train_df)\n",
    "\n",
    "min_samples_split_values = np.arange(0.005, 0.055, 0.005)*train_size\n",
    "min_samples_split_values = min_samples_split_values.astype(int)\n",
    "min_samples_leaf_values = np.arange(0.0015, 0.0115, 0.001)*train_size\n",
    "min_samples_leaf_values = min_samples_leaf_values.astype(int)\n",
    "\n",
    "print \"The minimum split sizes are: \", min_samples_split_values\n",
    "print \"The minimum leaf sizes are: \", min_samples_leaf_values"
   ]
  },
  {
   "cell_type": "markdown",
   "metadata": {},
   "source": [
    "2\\. Explain in words your reasoning for choosing the above ranges."
   ]
  },
  {
   "cell_type": "markdown",
   "metadata": {},
   "source": [
    "I chose the ranges above based on rules of thumb presented in [Decision Tree Validation: A Comprehensive Approach](http://www2.sas.com/proceedings/sugi30/256-30.pdf) by Sylvain Tremblay (SAS).\n",
    "\n",
    "First, this summary cites the rule of thumb that minimum leaf sizes be between 0.25% and 1% the size of the training data set. Thus, I chose to sample minimum leaf sizes over this range at an interval of 0.1% (starting at the 0.15% the size of the training set). \n",
    "\n",
    "Next, Tremblay noted the minimium split size must be at least twice the minimium leaf size (since the size of a parent is the sum of the sizes of its two children in a binary decision tree). Thus, I chose to sample minumum split sizes over a relatively large range, such that for all tested minimum leaf sizes most of the minimum split size values were at least twice as large.\n"
   ]
  },
  {
   "cell_type": "markdown",
   "metadata": {},
   "source": [
    "3\\. For each combination of values in 3.1 (there should be 100), build a new classifier and check the classifier's accuracy on the test data. Plot the test set accuracy for these options. Use the values of `min_samples_split` as the x-axis and generate a new series (line) for each of `min_samples_leaf`."
   ]
  },
  {
   "cell_type": "code",
   "execution_count": 294,
   "metadata": {
    "collapsed": false
   },
   "outputs": [
    {
     "data": {
      "text/plain": [
       "<matplotlib.text.Text at 0x1126c6350>"
      ]
     },
     "execution_count": 294,
     "metadata": {},
     "output_type": "execute_result"
    },
    {
     "data": {
      "image/png": "[encoded data removed]",
      "text/plain": [
       "<matplotlib.figure.Figure at 0x110c2bd10>"
      ]
     },
     "metadata": {},
     "output_type": "display_data"
    }
   ],
   "source": [
    "import matplotlib.pyplot as plt\n",
    "%matplotlib inline\n",
    "\n",
    "def build_results_dataframe():\n",
    "    columns = ['min_samples_split','min_samples_leaf','accuracy']\n",
    "    test_results = pd.DataFrame(columns=columns)\n",
    "    for min_split in min_samples_split_values:\n",
    "        for min_leaf in min_samples_leaf_values:\n",
    "            new_churn_tree = tree.DecisionTreeClassifier(criterion='entropy',min_samples_split=min_split, min_samples_leaf=min_leaf)\n",
    "            new_churn_tree = new_churn_tree.fit(train_predictors, train_target)\n",
    "            accuracy = round(new_churn_tree.score(test_predictors, test_target), 4)\n",
    "            test_results = test_results.append(pd.Series([min_split, min_leaf, accuracy],index=columns),ignore_index=True)\n",
    "    return test_results\n",
    "    \n",
    "test_results = build_results_dataframe()\n",
    "grouped_results = test_results.groupby('min_samples_leaf')\n",
    "\n",
    "fig=plt.figure(figsize=(8,8))\n",
    "for name, group in grouped_results:\n",
    "    plt.plot(group.min_samples_split, group.accuracy, label=name)\n",
    "plt.legend(title='Minimum leaf size', loc=4)\n",
    "plt.xlabel('Minimum split sample size')\n",
    "plt.ylabel('Accuracy')"
   ]
  },
  {
   "cell_type": "markdown",
   "metadata": {},
   "source": [
    "4\\. Which configuration returns the best accuracy? What is this accuracy? (Note, if you don't see much variation in the test set accuracy across values of min_samples_split or min_samples_leaf, try redoing the above steps with a different range of values)."
   ]
  },
  {
   "cell_type": "code",
   "execution_count": 295,
   "metadata": {
    "collapsed": false
   },
   "outputs": [
    {
     "data": {
      "text/plain": [
       "min_samples_split    956.0000\n",
       "min_samples_leaf      79.0000\n",
       "accuracy               0.5928\n",
       "Name: 51, dtype: float64"
      ]
     },
     "execution_count": 295,
     "metadata": {},
     "output_type": "execute_result"
    }
   ],
   "source": [
    "test_results.ix[test_results['accuracy'].idxmax()]"
   ]
  },
  {
   "cell_type": "markdown",
   "metadata": {},
   "source": [
    "The configuration that returns the best accuracy is min_samples_split = 956 and min_samples_leaf = 79 (which achieves and accuracy of 59.28%). Note this corresponds to spliting only if a node has at least 3% of the test set, and only if the children would have at least 0.25% of the test set."
   ]
  },
  {
   "cell_type": "markdown",
   "metadata": {},
   "source": [
    "5\\. If you were working for a marketing department, how would you use your churn production model in a real business environment? Explain why churn prediction might be good for the business and how one might improve churn by using this model."
   ]
  },
  {
   "cell_type": "markdown",
   "metadata": {},
   "source": [
    "First, I would determine the feature importance for each feature in my best decision tree classifier (see below):"
   ]
  },
  {
   "cell_type": "code",
   "execution_count": 296,
   "metadata": {
    "collapsed": false
   },
   "outputs": [
    {
     "data": {
      "text/plain": [
       "<matplotlib.text.Text at 0x1112257d0>"
      ]
     },
     "execution_count": 296,
     "metadata": {},
     "output_type": "execute_result"
    },
    {
     "data": {
      "image/png": "[encoded data removed]",
      "text/plain": [
       "<matplotlib.figure.Figure at 0x1119791d0>"
      ]
     },
     "metadata": {},
     "output_type": "display_data"
    }
   ],
   "source": [
    "best_churn_tree = tree.DecisionTreeClassifier(criterion='entropy',min_samples_split=956, min_samples_leaf=79)\n",
    "best_churn_tree = best_churn_tree.fit(train_predictors, train_target)\n",
    "\n",
    "fig=plt.figure()\n",
    "width = .8\n",
    "N = len(best_churn_tree.feature_importances_)\n",
    "plt.bar(np.arange(N), best_churn_tree.feature_importances_, width)\n",
    "plt.xticks(np.arange(N)+.8/2, train_predictors.columns.values, rotation=90)\n",
    "plt.title('Feature Importance from DT')\n",
    "plt.ylabel('Normalized Gini Importance')"
   ]
  },
  {
   "cell_type": "markdown",
   "metadata": {},
   "source": [
    "Looking at the feature importance in my best decision tree classier, I see eqpdays and months are the two most important features. Thus, I would likely devise a marketing strategy based on the following premise:\n",
    "\n",
    "1. On average, people are more likely to churn when: (i) they've been with the company a longer time; and (ii) they've had their device a longer time (and, as such, it is getting older and more out of date).\n",
    "    \n",
    "2. To reduce churn, our company should therefore: (i) use our best decision tree classifier (or preferably a model that has a higher test accuracy than 59.62%) to identify likely churners; and (ii) offer these customers a device upgrade (potentially in exchange for signing an extended service contract).\n",
    "    \n",
    "Note this is similar to Verizon's old two-year contract model, which offered device upgrades at the end of every service contract (contingent on a customer resigning)."
   ]
  }
 ],
 "metadata": {
  "kernelspec": {
   "display_name": "Python 2",
   "language": "python",
   "name": "python2"
  },
  "language_info": {
   "codemirror_mode": {
    "name": "ipython",
    "version": 2
   },
   "file_extension": ".py",
   "mimetype": "text/x-python",
   "name": "python",
   "nbconvert_exporter": "python",
   "pygments_lexer": "ipython2",
   "version": "2.7.10"
  }
 },
 "nbformat": 4,
 "nbformat_minor": 0
}
